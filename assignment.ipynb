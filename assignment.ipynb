{
  "cells": [
    {
      "cell_type": "markdown",
      "metadata": {
        "id": "7SXpaKwwGe5x"
      },
      "source": [
        "# TM10007 Assignment template"
      ]
    },
    {
      "cell_type": "markdown",
      "metadata": {
        "id": "YNIBQZig6LPp"
      },
      "source": [
        "## Data loading and cleaning\n",
        "\n",
        "Below are functions to load the dataset of your choice. After that, it is all up to you to create and evaluate a classification method. Beware, there may be missing values in these datasets. Good luck!"
      ]
    },
    {
      "cell_type": "code",
      "execution_count": 2,
      "metadata": {
        "colab": {
          "base_uri": "https://localhost:8080/",
          "height": 397
        },
        "id": "-NE_fTbKGe5z",
        "outputId": "eec4b482-f998-4f1b-e736-3b9db9970032"
      },
      "outputs": [],
      "source": [
        "# import packages\n",
        "import os\n",
        "import pandas as pd\n",
        "import numpy as np\n",
        "import matplotlib.pyplot as plt\n",
        "from sklearn import metrics\n",
        "from sklearn.model_selection import train_test_split\n",
        "from sklearn.preprocessing import StandardScaler, LabelEncoder\n",
        "from sklearn.impute import SimpleImputer\n",
        "from sklearn.feature_selection import VarianceThreshold\n",
        "\n",
        "from sklearn.metrics import classification_report, confusion_matrix\n",
        "from sklearn.model_selection import GridSearchCV\n",
        "\n",
        "from sklearn.linear_model import LogisticRegression\n",
        "from sklearn.svm import SVC\n",
        "from sklearn.ensemble import RandomForestClassifier\n",
        "from sklearn.ensemble import GradientBoostingClassifier\n",
        "from sklearn.pipeline import Pipeline\n",
        "from sklearn.model_selection import GridSearchCV, cross_val_score, KFold\n",
        "from sklearn.tree import DecisionTreeClassifier\n",
        "from sklearn.naive_bayes import MultinomialNB\n",
        "from sklearn.neighbors import KNeighborsClassifier\n",
        "from sklearn.metrics import *\n",
        "from sklearn.decomposition import PCA\n",
        "\n",
        "\n",
        "# Classifiers\n",
        "from worclipo.load_data import load_data"
      ]
    },
    {
      "attachments": {},
      "cell_type": "markdown",
      "metadata": {},
      "source": [
        "### functions"
      ]
    },
    {
      "cell_type": "code",
      "execution_count": 3,
      "metadata": {},
      "outputs": [],
      "source": [
        "# function to split the dataset into train and test\n",
        "def split_set(X,y,test_size):\n",
        "\n",
        "    if os.path.exists('./TEST_set.csv'):\n",
        "        split_action = print('TEST_set.csv already exists')\n",
        "    else:\n",
        "        split_action = print('TEST_set.csv does not exist, generating new test and training sets')\n",
        "        X_train_csv, X_test_csv, y_train_csv, y_test_csv = train_test_split(X, y, test_size=test_size, random_state=10)\n",
        "\n",
        "        TESTSET = X_test_csv.merge(y_test_csv, left_index=True, right_index=True)\n",
        "        TESTSET.to_csv('TEST_set.csv')\n",
        "\n",
        "        TRAINSET = X_train_csv.merge(y_train_csv, left_index=True, right_index=True)\n",
        "        TRAINSET.to_csv('TRAIN_set.csv')\n",
        "        return split_action\n",
        "    "
      ]
    },
    {
      "attachments": {},
      "cell_type": "markdown",
      "metadata": {},
      "source": [
        "# setting up the data to be processed"
      ]
    },
    {
      "cell_type": "code",
      "execution_count": 4,
      "metadata": {},
      "outputs": [
        {
          "name": "stdout",
          "output_type": "stream",
          "text": [
            "The number of samples: 115\n",
            "The number of columns: 494\n",
            "<class 'pandas.core.frame.DataFrame'>\n",
            "['liposarcoma', 'lipoma']\n",
            "Categories (2, object): ['liposarcoma' < 'lipoma']\n"
          ]
        }
      ],
      "source": [
        "data = load_data()\n",
        "print(f'The number of samples: {len(data.index)}')\n",
        "print(f'The number of columns: {len(data.columns)}')\n",
        "print(type(data))\n",
        "\n",
        "# change lipoma = 1 and liposarcoma = 0 and encode labels\n",
        "group_names = list(set(data.label))\n",
        "data.loc[data['label'] == 'lipoma', 'label'] = 1\n",
        "data.loc[data['label'] == 'liposarcoma', 'label'] = 0\n",
        "data['label'] = pd.cut(data['label'], bins = 2, labels=group_names)\n",
        "print(data['label'].unique())\n",
        "label_diag = LabelEncoder()\n",
        "data['label'] = label_diag.fit_transform(data['label'])\n",
        "\n",
        "# assign X to measurements and y to outcome (lipoma/sarcoma)\n",
        "X = data.drop('label', axis=1)\n",
        "y = data['label']\n",
        "test_size = 0.3"
      ]
    },
    {
      "cell_type": "code",
      "execution_count": 5,
      "metadata": {},
      "outputs": [
        {
          "name": "stdout",
          "output_type": "stream",
          "text": [
            "TEST_set.csv already exists\n"
          ]
        }
      ],
      "source": [
        "# code that splits the data into test and validation sets if this is not done already\n",
        "split_set(X,y,test_size)"
      ]
    },
    {
      "attachments": {},
      "cell_type": "markdown",
      "metadata": {},
      "source": [
        "## import the training set"
      ]
    },
    {
      "cell_type": "code",
      "execution_count": 6,
      "metadata": {},
      "outputs": [
        {
          "name": "stdout",
          "output_type": "stream",
          "text": [
            "['liposarcoma', 'lipoma']\n",
            "Categories (2, object): ['liposarcoma' < 'lipoma']\n",
            "Size before preprocess:  (56, 493)\n",
            "Size after n_components PCA:  (56, 19)\n"
          ]
        }
      ],
      "source": [
        "TRAIN = pd.read_csv('TRAIN_set.csv', index_col=0)\n",
        "X_train = TRAIN.drop('label', axis=1)\n",
        "y_train = TRAIN['label']\n",
        "\n",
        "TRAIN['label'] = pd.cut(TRAIN['label'], bins = 2, labels=group_names)\n",
        "print(TRAIN['label'].unique())\n",
        "label_diag = LabelEncoder()\n",
        "TRAIN['label'] = label_diag.fit_transform(TRAIN['label'])\n",
        "\n",
        "# split into training and validation set\n",
        "X_train, X_valid, y_train, y_valid = train_test_split(X_train, y_train, test_size=0.3, random_state=10)\n",
        "\n",
        "print(f'Size before preprocess: ', X_train.shape)\n",
        "\n",
        "clf_1 = Pipeline([('PCA', PCA()),\n",
        "                ('SVC', SVC(kernel='sigmoid', probability=True, random_state=1))\n",
        "                ])\n",
        "\n",
        "# set this to 0 if you want to check which n components is best\n",
        "PCA_components = 19\n",
        "\n",
        "if PCA_components == 0:\n",
        "    X_train_PCA = X_train\n",
        "    X_valid_PCA = X_valid\n",
        "    y_train_PCA = y_train\n",
        "    y_valid_PCA = y_valid\n",
        "\n",
        "    pipe_PCA = Pipeline([\n",
        "        (\"check nan\", SimpleImputer(missing_values=np.nan, strategy='mean')),\n",
        "        (\"scale\", StandardScaler()),\n",
        "        (\"variance\", VarianceThreshold(threshold=0)) \n",
        "    ]) \n",
        "\n",
        "    X_train_PCA = pipe_PCA.fit_transform(X_train_PCA)\n",
        "\n",
        "    # grid search for optimal n\n",
        "    gsf = GridSearchCV(\n",
        "        clf_1, \n",
        "        {'PCA__n_components' : [v for v in np.arange(15,30)],\n",
        "        'SVC__C' : [24]},\n",
        "        ).fit(X_train_PCA, y_train_PCA)\n",
        "    print(gsf.best_params_)\n",
        "\n",
        "    # apply this n to the dataset\n",
        "    pipe_preprocess = Pipeline([\n",
        "        (\"PCA\", PCA(n_components=gsf.best_params_['PCA__n_components']))   \n",
        "    ]) \n",
        "   \n",
        "    X_train = pipe_preprocess.fit_transform(X_train, y_train)\n",
        "    X_valid = pipe_preprocess.transform(X_valid)\n",
        "\n",
        "else: \n",
        "    # apply n_components to dataset\n",
        "    pipe_preprocess = Pipeline([\n",
        "        (\"check nan\", SimpleImputer(missing_values=np.nan, strategy='mean')),\n",
        "        (\"scale\", StandardScaler()),\n",
        "        (\"variance\", VarianceThreshold(threshold=0)),\n",
        "        (\"PCA\", PCA(n_components=PCA_components))   \n",
        "    ]) \n",
        "\n",
        "    X_train = pipe_preprocess.fit_transform(X_train, y_train)\n",
        "    X_valid = pipe_preprocess.transform(X_valid)\n",
        "\n",
        "\n",
        "print(f'Size after n_components PCA: ', X_train.shape)\n"
      ]
    },
    {
      "attachments": {},
      "cell_type": "markdown",
      "metadata": {},
      "source": [
        "# Classify"
      ]
    },
    {
      "cell_type": "code",
      "execution_count": 7,
      "metadata": {},
      "outputs": [
        {
          "name": "stdout",
          "output_type": "stream",
          "text": [
            "0.8100000000000002\n",
            "Pipeline(steps=[('classifier',\n",
            "                 LogisticRegression(C=10, class_weight={0: 1, 1: 5},\n",
            "                                    random_state=1))])\n",
            "{'classifier': LogisticRegression(C=10, class_weight={0: 1, 1: 5}, random_state=1), 'classifier__C': 10, 'classifier__class_weight': {0: 1, 1: 5}, 'classifier__penalty': 'l2'}\n",
            "Test Precision: 0.6923076923076923\n",
            "Test Recall: 0.6923076923076923\n",
            "Test ROC AUC Score: 0.6643356643356644\n"
          ]
        },
        {
          "name": "stderr",
          "output_type": "stream",
          "text": [
            "c:\\Users\\kiki6\\miniconda3\\lib\\site-packages\\sklearn\\model_selection\\_validation.py:378: FitFailedWarning: \n",
            "15 fits failed out of a total of 785.\n",
            "The score on these train-test partitions for these parameters will be set to nan.\n",
            "If these failures are not expected, you can try to debug them by setting error_score='raise'.\n",
            "\n",
            "Below are more details about the failures:\n",
            "--------------------------------------------------------------------------------\n",
            "15 fits failed with the following error:\n",
            "Traceback (most recent call last):\n",
            "  File \"c:\\Users\\kiki6\\miniconda3\\lib\\site-packages\\sklearn\\model_selection\\_validation.py\", line 686, in _fit_and_score\n",
            "    estimator.fit(X_train, y_train, **fit_params)\n",
            "  File \"c:\\Users\\kiki6\\miniconda3\\lib\\site-packages\\sklearn\\pipeline.py\", line 405, in fit\n",
            "    self._final_estimator.fit(Xt, y, **fit_params_last_step)\n",
            "  File \"c:\\Users\\kiki6\\miniconda3\\lib\\site-packages\\sklearn\\naive_bayes.py\", line 776, in fit\n",
            "    self._count(X, Y)\n",
            "  File \"c:\\Users\\kiki6\\miniconda3\\lib\\site-packages\\sklearn\\naive_bayes.py\", line 898, in _count\n",
            "    check_non_negative(X, \"MultinomialNB (input X)\")\n",
            "  File \"c:\\Users\\kiki6\\miniconda3\\lib\\site-packages\\sklearn\\utils\\validation.py\", line 1418, in check_non_negative\n",
            "    raise ValueError(\"Negative values in data passed to %s\" % whom)\n",
            "ValueError: Negative values in data passed to MultinomialNB (input X)\n",
            "\n",
            "  warnings.warn(some_fits_failed_message, FitFailedWarning)\n",
            "c:\\Users\\kiki6\\miniconda3\\lib\\site-packages\\sklearn\\model_selection\\_search.py:952: UserWarning: One or more of the test scores are non-finite: [0.53333333 0.43888889 0.50222222 0.53333333 0.60111111 0.53666667\n",
            " 0.40888889 0.51388889 0.53888889 0.57444444 0.53666667 0.40888889\n",
            " 0.51388889 0.53888889 0.57444444 0.625      0.51666667 0.49555556\n",
            " 0.49888889 0.48777778 0.6        0.59111111 0.52833333 0.51222222\n",
            " 0.49611111 0.6        0.59111111 0.52833333 0.51222222 0.48611111\n",
            " 0.51666667 0.52       0.49111111 0.53222222 0.50666667 0.48\n",
            " 0.55111111 0.52888889 0.55111111 0.50666667 0.48       0.55444444\n",
            " 0.53222222 0.55388889 0.51666667 0.56333333 0.51888889 0.55\n",
            " 0.52       0.50777778 0.58       0.47388889 0.54333333 0.54222222\n",
            " 0.51666667 0.58       0.48888889 0.54333333 0.54222222 0.525\n",
            " 0.77444444 0.73444444 0.70777778 0.77444444 0.70111111 0.77555556\n",
            " 0.70111111 0.76111111 0.70777778 0.73444444 0.71444444 0.77444444\n",
            " 0.72222222 0.77555556 0.72222222 0.76111111 0.72222222 0.73444444\n",
            " 0.73       0.77444444 0.75111111 0.77555556 0.75111111 0.76111111\n",
            " 0.75111111 0.73444444 0.79111111 0.77444444 0.81       0.77555556\n",
            " 0.81       0.76111111 0.81       0.73444444 0.79666667 0.77444444\n",
            " 0.78333333 0.77555556 0.79       0.76111111 0.77666667 0.6\n",
            " 0.6        0.66833333 0.59       0.6        0.66833333 0.59\n",
            " 0.6        0.66833333 0.59       0.6        0.66833333 0.57666667\n",
            " 0.57666667 0.60333333 0.59666667 0.59666667 0.62333333 0.59666667\n",
            " 0.59666667 0.62333333 0.59666667 0.59666667 0.62333333 0.45444444\n",
            " 0.45444444 0.50722222 0.49666667 0.49666667 0.54944444 0.49666667\n",
            " 0.49666667 0.54944444 0.49666667 0.49666667 0.54944444 0.50666667\n",
            " 0.50666667 0.53666667 0.48       0.48333333 0.56888889 0.48\n",
            " 0.48333333 0.56888889 0.48       0.48333333 0.56888889 0.55777778\n",
            " 0.60444444 0.54333333 0.64444444        nan        nan        nan\n",
            "        nan]\n",
            "  warnings.warn(\n"
          ]
        }
      ],
      "source": [
        "# setup classifiers\n",
        "clf1 = RandomForestClassifier(random_state=1)\n",
        "clf2 = SVC(probability=True, random_state=1)\n",
        "clf3 = LogisticRegression(random_state=1)\n",
        "clf4 = DecisionTreeClassifier(random_state=1)\n",
        "clf5 = KNeighborsClassifier()\n",
        "clf6 = MultinomialNB()\n",
        "\n",
        "# Initiaze the hyperparameters for each dictionary\n",
        "param1 = {}\n",
        "param1['classifier__n_estimators'] = [1,10, 50, 100, 250]\n",
        "param1['classifier__max_depth'] = [5, 10, 20]\n",
        "param1['classifier__class_weight'] = [None, {0:1,1:5}, {0:1,1:10}, {0:1,1:25}]\n",
        "param1['classifier'] = [clf1]\n",
        "\n",
        "param2 = {}\n",
        "param2['classifier__C'] = [22]\n",
        "param2['classifier__class_weight'] = [None]\n",
        "param2['classifier__kernel'] = ['sigmoid']\n",
        "param2['classifier'] = [clf2]\n",
        "\n",
        "\n",
        "param3 = {}\n",
        "param3['classifier__C'] = [10**-2, 10**-1, 10**0, 10**1, 10**2]\n",
        "param3['classifier__penalty'] = [None, 'l2']\n",
        "param3['classifier__class_weight'] = [None, {0:1,1:5}, {0:1,1:6}, {0:1,1:7}]\n",
        "param3['classifier'] = [clf3]\n",
        "\n",
        "param4 = {}\n",
        "param4['classifier__max_depth'] = [5,10,25,None]\n",
        "param4['classifier__min_samples_split'] = [2,5,10]\n",
        "param4['classifier__class_weight'] = [{0:1,1:2}, {0:1,1:3}, {0:1,1:4}, {0:1,1:5}]\n",
        "param4['classifier'] = [clf4]\n",
        "\n",
        "param5 = {}\n",
        "param5['classifier__n_neighbors'] = [2,5,10,25,50]\n",
        "param5['classifier'] = [clf5]\n",
        "\n",
        "param6 = {}\n",
        "param6['classifier__alpha'] = [10**0, 10**1, 10**2]\n",
        "param6['classifier'] = [clf6]\n",
        "\n",
        "\n",
        "pipeline = Pipeline([('classifier', clf1)])\n",
        "params = [param1, param2, param3, param4, param5, param6]\n",
        "gs = GridSearchCV(pipeline, params, cv=5, n_jobs=-1, scoring='roc_auc').fit(X_train, y_train)\n",
        "\n",
        "print(gs.best_score_)\n",
        "print(gs.best_estimator_)\n",
        "print(gs.best_params_)\n",
        "\n",
        "# results = pd.DataFrame(gs.best_params_)\n",
        "# results = results.sort_values(by=['rank_test_score'])\n",
        "# results.to_csv('results')\n",
        "\n",
        "# Test data performance\n",
        "print(\"Test Precision:\",precision_score(gs.predict(X_valid), y_valid))\n",
        "print(\"Test Recall:\",recall_score(gs.predict(X_valid), y_valid))\n",
        "print(\"Test ROC AUC Score:\",roc_auc_score(gs.predict(X_valid), y_valid))\n"
      ]
    },
    {
      "cell_type": "markdown",
      "metadata": {},
      "source": [
        "gsb = GridSearchCV(\n",
        "    estimator=SVC(probability=True,random_state=8,max_iter=1000),\n",
        "    param_grid={'kernel':['linear','rbf','polynomial','sigmoid'],'C':[v for v in np.linspace(1,100,100)]},\n",
        "    cv = 5,\n",
        "    n_jobs=-1,\n",
        "    scoring= 'recall').fit(X_train,y_train)\n",
        "\n",
        "print(gsb.best_params_)\n",
        "print(gsb.best_estimator_)\n",
        "\n",
        "best_clf = gsb.best_estimator_\n",
        "best_clf.fit(X_train,y_train)\n",
        "pred_rfc = best_clf.predict(X_valid)\n",
        "\n",
        "print('rfc', classification_report(y_valid, pred_rfc))\n",
        "print(confusion_matrix(y_valid, pred_rfc))\n",
        "\n",
        "\n",
        "results = pd.DataFrame(gsb.cv_results_)\n",
        "results = results.sort_values(by=['rank_test_score'])\n",
        "results.to_csv('results')\n",
        "\n",
        "print(\"Test Precision:\",precision_score(gsb.predict(X_valid), y_valid))\n",
        "print(\"Test Recall:\",recall_score(gsb.predict(X_valid), y_valid))\n",
        "print(\"Test ROC AUC Score:\",roc_auc_score(gsb.predict(X_valid), y_valid))\n"
      ]
    },
    {
      "attachments": {},
      "cell_type": "markdown",
      "metadata": {},
      "source": [
        "### Cross validation K-fold test"
      ]
    },
    {
      "cell_type": "code",
      "execution_count": 36,
      "metadata": {},
      "outputs": [
        {
          "name": "stdout",
          "output_type": "stream",
          "text": [
            "The best k-fold value is 8 with a mean accuracy of 0.679\n"
          ]
        },
        {
          "data": {
            "image/png": "[encoded data removed]",
            "text/plain": [
              "<Figure size 640x480 with 1 Axes>"
            ]
          },
          "metadata": {},
          "output_type": "display_data"
        }
      ],
      "source": [
        "# Define the list of k-fold values to test\n",
        "k_values = [2, 3, 4, 5, 6, 7, 8, 9, 10, 11, 12]\n",
        "\n",
        "# Initialize an empty list to store the cross-validation results for each k value\n",
        "cvk_results = []\n",
        "\n",
        "# Loop over the k values and perform k-fold cross-validation for each one\n",
        "for k in k_values:\n",
        "    # Create a KFold object with the current k value\n",
        "    kf = KFold(n_splits=k, shuffle=True, random_state=10)\n",
        "    # Compute the cross-validation scores for a logistic regression model using the current k-fold configuration\n",
        "    scores = cross_val_score(LogisticRegression(), X_train, y_train, cv=kf, scoring='accuracy', n_jobs=-1)\n",
        "    # Append the scores to the cv_results list\n",
        "    cvk_results.append(scores)\n",
        "\n",
        "# Find the index of the highest mean accuracy in the cvk_results list\n",
        "best_k = np.argmax([np.mean(cv_scores) for cv_scores in cvk_results])\n",
        "\n",
        "# Get the corresponding k value from the k_values list\n",
        "best_k = k_values[best_k]\n",
        "\n",
        "# Print the best k value and its mean accuracy\n",
        "print(f\"The best k-fold value is {best_k} with a mean accuracy of {np.max([np.mean(cv_scores) for cv_scores in cvk_results]):.3f}\")\n",
        "\n",
        "# Create a box plot of the cross-validation results for each k value\n",
        "plt.boxplot(cvk_results, labels=k_values)\n",
        "plt.xlabel('Number of Folds (k)')\n",
        "plt.ylabel('Accuracy')\n",
        "plt.title('Cross-Validation Performance')\n",
        "plt.show()\n",
        "\n"
      ]
    }
  ],
  "metadata": {
    "colab": {
      "name": "assignment.ipynb",
      "provenance": []
    },
    "kernelspec": {
      "display_name": "Python 3",
      "language": "python",
      "name": "python3"
    },
    "language_info": {
      "codemirror_mode": {
        "name": "ipython",
        "version": 3
      },
      "file_extension": ".py",
      "mimetype": "text/x-python",
      "name": "python",
      "nbconvert_exporter": "python",
      "pygments_lexer": "ipython3",
      "version": "3.10.9"
    }
  },
  "nbformat": 4,
  "nbformat_minor": 0
}
