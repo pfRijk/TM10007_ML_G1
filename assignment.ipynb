{
  "cells": [
    {
      "cell_type": "markdown",
      "metadata": {
        "id": "7SXpaKwwGe5x"
      },
      "source": [
        "# TM10007 Assignment template"
      ]
    },
    {
      "cell_type": "markdown",
      "metadata": {
        "id": "YNIBQZig6LPp"
      },
      "source": [
        "## Data loading and cleaning\n",
        "\n",
        "Below are functions to load the dataset of your choice. After that, it is all up to you to create and evaluate a classification method. Beware, there may be missing values in these datasets. Good luck!"
      ]
    },
    {
      "cell_type": "code",
      "execution_count": 9,
      "metadata": {
        "colab": {
          "base_uri": "https://localhost:8080/",
          "height": 397
        },
        "id": "-NE_fTbKGe5z",
        "outputId": "eec4b482-f998-4f1b-e736-3b9db9970032"
      },
      "outputs": [],
      "source": [
        "# import packages\n",
        "import os\n",
        "import pandas as pd\n",
        "import numpy as np\n",
        "import matplotlib.pyplot as plt\n",
        "from sklearn import metrics\n",
        "from sklearn.model_selection import train_test_split, learning_curve\n",
        "from sklearn.preprocessing import StandardScaler, LabelEncoder\n",
        "from sklearn.impute import SimpleImputer\n",
        "from sklearn.feature_selection import VarianceThreshold\n",
        "\n",
        "from sklearn.metrics import classification_report, confusion_matrix\n",
        "from sklearn.model_selection import GridSearchCV\n",
        "\n",
        "from sklearn.linear_model import LogisticRegression\n",
        "from sklearn.svm import SVC\n",
        "from sklearn.ensemble import RandomForestClassifier\n",
        "from sklearn.pipeline import Pipeline\n",
        "from sklearn.model_selection import GridSearchCV\n",
        "from sklearn.tree import DecisionTreeClassifier\n",
        "from sklearn.naive_bayes import MultinomialNB\n",
        "from sklearn.neighbors import KNeighborsClassifier\n",
        "from sklearn.metrics import *\n",
        "from sklearn.decomposition import PCA\n",
        "\n",
        "\n",
        "# Classifiers\n",
        "from worclipo.load_data import load_data"
      ]
    },
    {
      "attachments": {},
      "cell_type": "markdown",
      "metadata": {},
      "source": [
        "functions"
      ]
    },
    {
      "cell_type": "code",
      "execution_count": 10,
      "metadata": {},
      "outputs": [],
      "source": [
        "# function to split the dataset into train and test\n",
        "def split_set(X,y,test_size):\n",
        "\n",
        "    if os.path.exists('./TEST_set.csv'):\n",
        "        split_action = print('TEST_set.csv already exists')\n",
        "    else:\n",
        "        split_action = print('TEST_set.csv does not exist, generating new test and training sets')\n",
        "        X_train_csv, X_test_csv, y_train_csv, y_test_csv = train_test_split(X, y, test_size=test_size, random_state=10)\n",
        "\n",
        "        TESTSET = X_test_csv.merge(y_test_csv, left_index=True, right_index=True)\n",
        "        TESTSET.to_csv('TEST_set.csv')\n",
        "\n",
        "        TRAINSET = X_train_csv.merge(y_train_csv, left_index=True, right_index=True)\n",
        "        TRAINSET.to_csv('TRAIN_set.csv')\n",
        "        return split_action"
      ]
    },
    {
      "attachments": {},
      "cell_type": "markdown",
      "metadata": {},
      "source": [
        "# setting up the data to be processed"
      ]
    },
    {
      "cell_type": "code",
      "execution_count": 11,
      "metadata": {},
      "outputs": [
        {
          "name": "stdout",
          "output_type": "stream",
          "text": [
            "The number of samples: 115\n",
            "The number of columns: 494\n",
            "<class 'pandas.core.frame.DataFrame'>\n",
            "['liposarcoma', 'lipoma']\n",
            "Categories (2, object): ['liposarcoma' < 'lipoma']\n"
          ]
        }
      ],
      "source": [
        "data = load_data()\n",
        "print(f'The number of samples: {len(data.index)}')\n",
        "print(f'The number of columns: {len(data.columns)}')\n",
        "print(type(data))\n",
        "\n",
        "# change lipoma = 1 and liposarcoma = 0 and encode labels\n",
        "group_names = list(set(data.label))\n",
        "data.loc[data['label'] == 'lipoma', 'label'] = 1\n",
        "data.loc[data['label'] == 'liposarcoma', 'label'] = 0\n",
        "data['label'] = pd.cut(data['label'], bins = 2, labels=group_names)\n",
        "print(data['label'].unique())\n",
        "label_diag = LabelEncoder()\n",
        "data['label'] = label_diag.fit_transform(data['label'])\n",
        "\n",
        "# assign X to measurements and y to outcome (lipoma/sarcoma)\n",
        "X = data.drop('label', axis=1)\n",
        "y = data['label']\n",
        "test_size = 0.3"
      ]
    },
    {
      "cell_type": "code",
      "execution_count": 12,
      "metadata": {},
      "outputs": [
        {
          "name": "stdout",
          "output_type": "stream",
          "text": [
            "TEST_set.csv already exists\n"
          ]
        }
      ],
      "source": [
        "# code that splits the data into test and validation sets if this is not done already\n",
        "split_set(X,y,test_size)"
      ]
    },
    {
      "attachments": {},
      "cell_type": "markdown",
      "metadata": {},
      "source": [
        "## import the training set"
      ]
    },
    {
      "cell_type": "code",
      "execution_count": 13,
      "metadata": {},
      "outputs": [
        {
          "name": "stdout",
          "output_type": "stream",
          "text": [
            "['liposarcoma', 'lipoma']\n",
            "Categories (2, object): ['liposarcoma' < 'lipoma']\n"
          ]
        }
      ],
      "source": [
        "# import\n",
        "TRAIN = pd.read_csv('TRAIN_set.csv', index_col=0)\n",
        "X_train = TRAIN.drop('label', axis=1)\n",
        "y_train = TRAIN['label']\n",
        "\n",
        "TRAIN['label'] = pd.cut(TRAIN['label'], bins = 2, labels=group_names)\n",
        "print(TRAIN['label'].unique())\n",
        "label_diag = LabelEncoder()\n",
        "TRAIN['label'] = label_diag.fit_transform(TRAIN['label'])\n",
        "\n",
        "# split into training and validation set\n",
        "X_train, X_valid, y_train, y_valid = train_test_split(X_train, y_train, test_size=0.3, random_state=10)\n",
        "\n",
        "print(f'Size before preprocess: ', X_train.shape)\n",
        "\n",
        "clf_1 = Pipeline([('PCA', PCA()),\n",
        "                ('SVC', SVC(kernel='sigmoid', probability=True, random_state=1))\n",
        "                ])\n",
        "\n",
        "# set this to 0 if you want to check which n components is best\n",
        "PCA_components = 19\n",
        "\n",
        "if PCA_components == 0:\n",
        "    X_train_PCA = X_train\n",
        "    X_valid_PCA = X_valid\n",
        "    y_train_PCA = y_train\n",
        "    y_valid_PCA = y_valid\n",
        "\n",
        "    pipe_PCA = Pipeline([\n",
        "        (\"check nan\", SimpleImputer(missing_values=np.nan, strategy='mean')),\n",
        "        (\"scale\", StandardScaler()),\n",
        "        (\"variance\", VarianceThreshold(threshold=0)) \n",
        "    ]) \n",
        "\n",
        "    X_train_PCA = pipe_PCA.fit_transform(X_train_PCA)\n",
        "\n",
        "    # grid search for optimal n\n",
        "    gsf = GridSearchCV(\n",
        "        clf_1, \n",
        "        {'PCA__n_components' : [v for v in np.arange(15,30)],\n",
        "        'SVC__C' : [68]},\n",
        "        scoring= 'accuracy'\n",
        "        ).fit(X_train_PCA, y_train_PCA)\n",
        "    print(gsf.best_params_)\n",
        "\n",
        "    # apply this n to the dataset\n",
        "    pipe_preprocess = Pipeline([\n",
        "        (\"PCA\", PCA(n_components=gsf.best_params_['PCA__n_components']))   \n",
        "    ]) \n",
        "    X_train = pipe_preprocess.fit_transform(X_train, y_train)\n",
        "    X_valid = pipe_preprocess.transform(X_valid)\n",
        "\n",
        "else: \n",
        "    # apply n_components to dataset\n",
        "    pipe_preprocess = Pipeline([\n",
        "        (\"check nan\", SimpleImputer(missing_values=np.nan, strategy='mean')),\n",
        "        (\"scale\", StandardScaler()),\n",
        "        (\"variance\", VarianceThreshold(threshold=0)),\n",
        "        (\"PCA\", PCA(n_components=PCA_components))   \n",
        "    ]) \n",
        "\n",
        "    X_train = pipe_preprocess.fit_transform(X_train, y_train)\n",
        "    X_valid = pipe_preprocess.transform(X_valid)\n",
        "\n",
        "\n",
        "print(f'Size after n_components PCA: ', X_train.shape)\n"
      ]
    },
    {
      "attachments": {},
      "cell_type": "markdown",
      "metadata": {},
      "source": [
        "# Gridsearch for best classifiers"
      ]
    },
    {
      "cell_type": "code",
      "execution_count": null,
      "metadata": {},
      "outputs": [],
      "source": [
        "# setup classifiers\n",
        "clf1 = RandomForestClassifier(random_state=1)\n",
        "clf2 = SVC(probability=True, random_state=1)\n",
        "clf3 = LogisticRegression(random_state=1)\n",
        "clf4 = DecisionTreeClassifier(random_state=1)\n",
        "clf5 = KNeighborsClassifier()\n",
        "clf6 = MultinomialNB()\n",
        "\n",
        "# Initiaze the hyperparameters for each dictionary\n",
        "param1 = {}\n",
        "param1['classifier__n_estimators'] = [1,10, 50, 100, 250]\n",
        "param1['classifier__max_depth'] = [5, 10, 20]\n",
        "param1['classifier__class_weight'] = [None, {0:1,1:5}, {0:1,1:10}, {0:1,1:25}]\n",
        "param1['classifier'] = [clf1]\n",
        "\n",
        "param2 = {}\n",
        "param2['classifier__C'] = [22]\n",
        "param2['classifier__class_weight'] = [None]\n",
        "param2['classifier__kernel'] = ['sigmoid']\n",
        "param2['classifier'] = [clf2]\n",
        "\n",
        "\n",
        "param3 = {}\n",
        "param3['classifier__C'] = [10**-2, 10**-1, 10**0, 10**1, 10**2]\n",
        "param3['classifier__penalty'] = [None, 'l2']\n",
        "param3['classifier__class_weight'] = [None, {0:1,1:5}, {0:1,1:6}, {0:1,1:7}]\n",
        "param3['classifier'] = [clf3]\n",
        "\n",
        "param4 = {}\n",
        "param4['classifier__max_depth'] = [5,10,25,None]\n",
        "param4['classifier__min_samples_split'] = [2,5,10]\n",
        "param4['classifier__class_weight'] = [{0:1,1:2}, {0:1,1:3}, {0:1,1:4}, {0:1,1:5}]\n",
        "param4['classifier'] = [clf4]\n",
        "\n",
        "param5 = {}\n",
        "param5['classifier__n_neighbors'] = [2,5,10,25,50]\n",
        "param5['classifier'] = [clf5]\n",
        "\n",
        "param6 = {}\n",
        "param6['classifier__alpha'] = [10**0, 10**1, 10**2]\n",
        "param6['classifier'] = [clf6]\n",
        "\n",
        "\n",
        "pipeline = Pipeline([('classifier', clf1)])\n",
        "params = [param1, param2, param3, param4, param5, param6]\n",
        "gs = GridSearchCV(pipeline, params, cv=5, n_jobs=-1, scoring='roc_auc').fit(X_train, y_train)\n",
        "\n",
        "print(gs.best_score_)\n",
        "print(gs.best_estimator_)\n",
        "print(gs.best_params_)\n",
        "\n",
        "# results = pd.DataFrame(gs.best_params_)\n",
        "# results = results.sort_values(by=['rank_test_score'])\n",
        "# results.to_csv('results')\n",
        "\n",
        "# Test data performance\n",
        "print(\"Test Precision:\",precision_score(gs.predict(X_valid), y_valid))\n",
        "print(\"Test Recall:\",recall_score(gs.predict(X_valid), y_valid))\n",
        "print(\"Test ROC AUC Score:\",roc_auc_score(gs.predict(X_valid), y_valid))"
      ]
    },
    {
      "attachments": {},
      "cell_type": "markdown",
      "metadata": {},
      "source": [
        "# Optimize the best estimator from the gridsearch"
      ]
    },
    {
      "cell_type": "code",
      "execution_count": null,
      "metadata": {},
      "outputs": [],
      "source": [
        "gsb = GridSearchCV(\n",
        "    estimator=SVC(probability=True,random_state=8,max_iter=1000),\n",
        "    param_grid={'kernel':['linear','rbf','polynomial','sigmoid'],'C':[v for v in np.linspace(1,100,100)]},\n",
        "    cv = 5,\n",
        "    n_jobs=-1,\n",
        "    scoring= 'recall').fit(X_train,y_train)\n",
        "\n",
        "print(gsb.best_params_)\n",
        "print(gsb.best_estimator_)\n",
        "\n",
        "best_clf = gsb.best_estimator_\n",
        "best_clf.fit(X_train,y_train)\n",
        "pred_rfc = best_clf.predict(X_valid)\n",
        "\n",
        "print('rfc', classification_report(y_valid, pred_rfc))\n",
        "print(confusion_matrix(y_valid, pred_rfc))\n",
        "\n",
        "\n",
        "results = pd.DataFrame(gsb.cv_results_)\n",
        "results = results.sort_values(by=['rank_test_score'])\n",
        "results.to_csv('results')\n",
        "\n",
        "print(\"Test Precision:\",precision_score(gsb.predict(X_valid), y_valid))\n",
        "print(\"Test Recall:\",recall_score(gsb.predict(X_valid), y_valid))\n",
        "print(\"Test ROC AUC Score:\",roc_auc_score(gsb.predict(X_valid), y_valid))"
      ]
    },
    {
      "attachments": {},
      "cell_type": "markdown",
      "metadata": {},
      "source": [
        "# Run classifier on test set"
      ]
    },
    {
      "cell_type": "code",
      "execution_count": null,
      "metadata": {},
      "outputs": [],
      "source": [
        "# import the test set\n",
        "TEST = pd.read_csv('TEST_set.csv', index_col=0)\n",
        "X_test = TEST.drop('label', axis=1)\n",
        "y_test = TEST['label']\n",
        "\n",
        "TEST['label'] = pd.cut(TEST['label'], bins = 2, labels=group_names)\n",
        "label_diag = LabelEncoder()\n",
        "TEST['label'] = label_diag.fit_transform(TEST['label'])\n",
        "\n",
        "# preprocess\n",
        "print(f'Size before preprocess: ', X_test.shape)\n",
        "X_test = pipe_preprocess.transform(X_test)\n",
        "print(f'Size after preprocess:  ', X_test.shape)\n",
        "\n",
        "# predict\n",
        "\n",
        "pred_test = best_clf.predict(X_test)\n",
        "\n",
        "# results \n",
        "print('Test classification report \\n', classification_report(y_test, pred_test))\n",
        "print(\"Test Precision:    \",precision_score(gsb.predict(X_test), y_test))\n",
        "print(\"Test Recall:       \",recall_score(gsb.predict(X_test), y_test))\n",
        "print(\"Test ROC AUC Score:\",roc_auc_score(gsb.predict(X_test), y_test))\n",
        " \n",
        "print('confusion matrix \\n', confusion_matrix(y_valid, pred_rfc))"
      ]
    },
    {
      "attachments": {},
      "cell_type": "markdown",
      "metadata": {},
      "source": [
        "ROC curve"
      ]
    },
    {
      "cell_type": "code",
      "execution_count": null,
      "metadata": {},
      "outputs": [],
      "source": [
        "pred_rfc_prob = best_clf.predict_proba(X_valid)[:,1]\n",
        "\n",
        "fpr, tpr, _ = metrics.roc_curve(y_valid, pred_rfc_prob)\n",
        "auc = metrics.roc_auc_score(y_valid, pred_rfc_prob)\n",
        "\n",
        "plt.plot(fpr,tpr,label=\"AUC=\"+str(auc))\n",
        "plt.ylabel('True Positive Rate')\n",
        "plt.xlabel('False Positive Rate')\n",
        "plt.legend(loc=4)\n",
        "plt.show()"
      ]
    },
    {
      "attachments": {},
      "cell_type": "markdown",
      "metadata": {},
      "source": [
        "Learning curve"
      ]
    },
    {
      "cell_type": "code",
      "execution_count": null,
      "metadata": {},
      "outputs": [],
      "source": [
        "TRAIN = pd.read_csv('TRAIN_set.csv', index_col=0)\n",
        "X_train = TRAIN.drop('label', axis=1)\n",
        "y_train = TRAIN['label']\n",
        "\n",
        "TRAIN['label'] = pd.cut(TRAIN['label'], bins = 2, labels=group_names)\n",
        "label_diag = LabelEncoder()\n",
        "TRAIN['label'] = label_diag.fit_transform(TRAIN['label'])\n",
        "\n",
        "train_sizes, train_scores, test_scores = learning_curve(estimator=pipeline, X=X_train, y=y_train,\n",
        "                                                        cv=5, train_sizes=np.linspace(0.1, 1.0, 10),\n",
        "                                                        n_jobs=1)\n",
        "\n",
        "train_mean = np.mean(train_scores, axis=1)\n",
        "train_std = np.std(train_scores, axis=1)\n",
        "test_mean = np.mean(test_scores, axis=1)\n",
        "test_std = np.std(test_scores, axis=1)\n",
        "\n",
        "plt.plot(train_sizes, train_mean, color='blue', marker='o', markersize=5, label='Training Accuracy')\n",
        "plt.fill_between(train_sizes, train_mean + train_std, train_mean - train_std, alpha=0.15, color='blue')\n",
        "plt.plot(train_sizes, test_mean, color='green', marker='+', markersize=5, linestyle='--', label='Validation Accuracy')\n",
        "plt.fill_between(train_sizes, test_mean + test_std, test_mean - test_std, alpha=0.15, color='green')\n",
        "plt.title('Learning Curve')\n",
        "plt.xlabel('Training Data Size')\n",
        "plt.ylabel('Model accuracy')\n",
        "plt.grid()\n",
        "plt.legend(loc='lower right')\n",
        "plt.show()"
      ]
    },
    {
      "attachments": {},
      "cell_type": "markdown",
      "metadata": {},
      "source": [
        "# Number of features"
      ]
    },
    {
      "cell_type": "code",
      "execution_count": 17,
      "metadata": {},
      "outputs": [
        {
          "data": {
            "image/png": "[encoded data removed]",
            "text/plain": [
              "<Figure size 640x480 with 1 Axes>"
            ]
          },
          "metadata": {},
          "output_type": "display_data"
        }
      ],
      "source": [
        "pipe = Pipeline([\n",
        "    ('scaling', StandardScaler()),\n",
        "    ('reduce_dim', 'passthrough'),\n",
        "    ('classify', SVC(kernel='sigmoid', max_iter=1000))\n",
        "])\n",
        "\n",
        "N_FEATURES_OPTIONS = [5, 10, 15, 20, 25, 30, 35, 40]\n",
        "C_OPTIONS = [10]\n",
        "param_grid = [\n",
        "    {\n",
        "        'reduce_dim': [PCA()],\n",
        "        'reduce_dim__n_components': N_FEATURES_OPTIONS,\n",
        "        'classify__C': C_OPTIONS\n",
        "    },\n",
        "    {\n",
        "        'reduce_dim': [SelectKBest(mutual_info_classif)],\n",
        "        'reduce_dim__k': N_FEATURES_OPTIONS,\n",
        "        'classify__C': C_OPTIONS\n",
        "    },\n",
        "]\n",
        "reducer_labels = ['PCA', 'KBest(mutual_info_classif)']\n",
        "\n",
        "grid = GridSearchCV(pipe, n_jobs=1, param_grid=param_grid)\n",
        "grid.fit(X_train, y_train)\n",
        "\n",
        "mean_scores = np.array(grid.cv_results_['mean_test_score'])\n",
        "# scores are in the order of param_grid iteration, which is alphabetical\n",
        "mean_scores = mean_scores.reshape(len(C_OPTIONS), -1, len(N_FEATURES_OPTIONS))\n",
        "# select score for best C\n",
        "mean_scores = mean_scores.max(axis=0)\n",
        "mean_scores = pd.DataFrame(\n",
        "    mean_scores.T, index=N_FEATURES_OPTIONS, columns=reducer_labels\n",
        ")\n",
        "\n",
        "ax = mean_scores.plot.bar()\n",
        "ax.set_title(\"Comparing feature selection techniques\")\n",
        "ax.set_xlabel(\"Reduced number of features\")\n",
        "ax.set_ylabel(\"Digit classification accuracy\")\n",
        "ax.set_ylim((0, 1))\n",
        "ax.legend(loc=\"upper left\")\n",
        "\n",
        "plt.show()"
      ]
    }
  ],
  "metadata": {
    "colab": {
      "name": "assignment.ipynb",
      "provenance": []
    },
    "kernelspec": {
      "display_name": "Python 3",
      "language": "python",
      "name": "python3"
    },
    "language_info": {
      "codemirror_mode": {
        "name": "ipython",
        "version": 3
      },
      "file_extension": ".py",
      "mimetype": "text/x-python",
      "name": "python",
      "nbconvert_exporter": "python",
      "pygments_lexer": "ipython3",
      "version": "3.9.13"
    },
    "vscode": {
      "interpreter": {
        "hash": "950fc4b699e5f5d2546c8910bdd20cbc496d6b8a7cbfe805f3578b0419993ce2"
      }
    }
  },
  "nbformat": 4,
  "nbformat_minor": 0
}
